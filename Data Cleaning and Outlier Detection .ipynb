{
 "cells": [
  {
   "cell_type": "code",
   "execution_count": 202,
   "id": "d6a07e4b-fe2c-4cdd-a62f-d8279a9332bf",
   "metadata": {},
   "outputs": [],
   "source": [
    "import pandas as pd\n",
    "import numpy as np\n",
    "import matplotlib.pyplot as plt\n",
    "import seaborn as sns"
   ]
  },
  {
   "cell_type": "code",
   "execution_count": 203,
   "id": "6d391688-2dae-4f7c-a341-df6d0ad51dd6",
   "metadata": {},
   "outputs": [],
   "source": [
    "dataset = pd.read_csv('car_price1.csv')"
   ]
  },
  {
   "cell_type": "code",
   "execution_count": 206,
   "id": "f15f4568-ccb3-4b47-808d-272f40a426b4",
   "metadata": {},
   "outputs": [
    {
     "data": {
      "text/html": [
       "<div>\n",
       "<style scoped>\n",
       "    .dataframe tbody tr th:only-of-type {\n",
       "        vertical-align: middle;\n",
       "    }\n",
       "\n",
       "    .dataframe tbody tr th {\n",
       "        vertical-align: top;\n",
       "    }\n",
       "\n",
       "    .dataframe thead th {\n",
       "        text-align: right;\n",
       "    }\n",
       "</style>\n",
       "<table border=\"1\" class=\"dataframe\">\n",
       "  <thead>\n",
       "    <tr style=\"text-align: right;\">\n",
       "      <th></th>\n",
       "      <th>car_name</th>\n",
       "      <th>car_prices_in_rupee</th>\n",
       "      <th>kms_driven</th>\n",
       "      <th>fuel_type</th>\n",
       "      <th>transmission</th>\n",
       "      <th>ownership</th>\n",
       "      <th>engine</th>\n",
       "      <th>Seats</th>\n",
       "      <th>manufacture</th>\n",
       "    </tr>\n",
       "  </thead>\n",
       "  <tbody>\n",
       "    <tr>\n",
       "      <th>0</th>\n",
       "      <td>Jeep Compass 2.0 Longitude Option BSIV</td>\n",
       "      <td>10.03 Lakh</td>\n",
       "      <td>86,226 kms</td>\n",
       "      <td>Diesel</td>\n",
       "      <td>Manual</td>\n",
       "      <td>1st Owner</td>\n",
       "      <td>1956 cc</td>\n",
       "      <td>5 Seats</td>\n",
       "      <td>January 7, 2018</td>\n",
       "    </tr>\n",
       "    <tr>\n",
       "      <th>1</th>\n",
       "      <td>Renault Duster RXZ Turbo CVT</td>\n",
       "      <td>12.83 Lakh</td>\n",
       "      <td>13,248 kms</td>\n",
       "      <td>Petrol</td>\n",
       "      <td>Automatic</td>\n",
       "      <td>1st Owner</td>\n",
       "      <td>1330 cc</td>\n",
       "      <td>5 Seats</td>\n",
       "      <td>January 15, 2018</td>\n",
       "    </tr>\n",
       "    <tr>\n",
       "      <th>2</th>\n",
       "      <td>Toyota Camry 2.5 G</td>\n",
       "      <td>16.40 Lakh</td>\n",
       "      <td>60,343 kms</td>\n",
       "      <td>Petrol</td>\n",
       "      <td>Automatic</td>\n",
       "      <td>1st Owner</td>\n",
       "      <td>2494 cc</td>\n",
       "      <td>5 Seats</td>\n",
       "      <td>August 1,  2018</td>\n",
       "    </tr>\n",
       "    <tr>\n",
       "      <th>3</th>\n",
       "      <td>Honda Jazz VX CVT</td>\n",
       "      <td>7.77 Lakh</td>\n",
       "      <td>26,696 kms</td>\n",
       "      <td>Petrol</td>\n",
       "      <td>Automatic</td>\n",
       "      <td>1st Owner</td>\n",
       "      <td>1199 cc</td>\n",
       "      <td>5 Seats</td>\n",
       "      <td>June 8, 2018</td>\n",
       "    </tr>\n",
       "    <tr>\n",
       "      <th>4</th>\n",
       "      <td>Volkswagen Polo 1.2 MPI Highline</td>\n",
       "      <td>5.15 Lakh</td>\n",
       "      <td>69,414 kms</td>\n",
       "      <td>Petrol</td>\n",
       "      <td>Manual</td>\n",
       "      <td>1st Owner</td>\n",
       "      <td>1199 cc</td>\n",
       "      <td>5 Seats</td>\n",
       "      <td>June 20, 2018</td>\n",
       "    </tr>\n",
       "  </tbody>\n",
       "</table>\n",
       "</div>"
      ],
      "text/plain": [
       "                                 car_name car_prices_in_rupee  kms_driven  \\\n",
       "0  Jeep Compass 2.0 Longitude Option BSIV          10.03 Lakh  86,226 kms   \n",
       "1            Renault Duster RXZ Turbo CVT          12.83 Lakh  13,248 kms   \n",
       "2                      Toyota Camry 2.5 G          16.40 Lakh  60,343 kms   \n",
       "3                       Honda Jazz VX CVT           7.77 Lakh  26,696 kms   \n",
       "4        Volkswagen Polo 1.2 MPI Highline           5.15 Lakh  69,414 kms   \n",
       "\n",
       "  fuel_type transmission  ownership   engine    Seats       manufacture  \n",
       "0    Diesel       Manual  1st Owner  1956 cc  5 Seats   January 7, 2018  \n",
       "1    Petrol    Automatic  1st Owner  1330 cc  5 Seats  January 15, 2018  \n",
       "2    Petrol    Automatic  1st Owner  2494 cc  5 Seats   August 1,  2018  \n",
       "3    Petrol    Automatic  1st Owner  1199 cc  5 Seats      June 8, 2018  \n",
       "4    Petrol       Manual  1st Owner  1199 cc  5 Seats     June 20, 2018  "
      ]
     },
     "execution_count": 206,
     "metadata": {},
     "output_type": "execute_result"
    }
   ],
   "source": [
    "dataset.head() "
   ]
  },
  {
   "cell_type": "code",
   "execution_count": 205,
   "id": "dfed6b56-57ed-44fa-80dd-befe48438692",
   "metadata": {},
   "outputs": [
    {
     "name": "stdout",
     "output_type": "stream",
     "text": [
      "<class 'pandas.core.frame.DataFrame'>\n",
      "RangeIndex: 5512 entries, 0 to 5511\n",
      "Data columns (total 9 columns):\n",
      " #   Column               Non-Null Count  Dtype \n",
      "---  ------               --------------  ----- \n",
      " 0   car_name             5512 non-null   object\n",
      " 1   car_prices_in_rupee  5512 non-null   object\n",
      " 2   kms_driven           5511 non-null   object\n",
      " 3   fuel_type            5512 non-null   object\n",
      " 4   transmission         5512 non-null   object\n",
      " 5   ownership            5512 non-null   object\n",
      " 6   engine               5512 non-null   object\n",
      " 7   Seats                5512 non-null   object\n",
      " 8   manufacture          5512 non-null   object\n",
      "dtypes: object(9)\n",
      "memory usage: 387.7+ KB\n"
     ]
    }
   ],
   "source": [
    "dataset.info() "
   ]
  },
  {
   "cell_type": "code",
   "execution_count": 207,
   "id": "06d5d313-d665-4846-a995-de609f955557",
   "metadata": {},
   "outputs": [
    {
     "data": {
      "text/plain": [
       "(5512, 9)"
      ]
     },
     "execution_count": 207,
     "metadata": {},
     "output_type": "execute_result"
    }
   ],
   "source": [
    "dataset.shape"
   ]
  },
  {
   "cell_type": "code",
   "execution_count": 208,
   "id": "adbf4604-d346-43bc-8d85-5d546fb30baf",
   "metadata": {},
   "outputs": [
    {
     "data": {
      "text/plain": [
       "car_name               0\n",
       "car_prices_in_rupee    0\n",
       "kms_driven             1\n",
       "fuel_type              0\n",
       "transmission           0\n",
       "ownership              0\n",
       "engine                 0\n",
       "Seats                  0\n",
       "manufacture            0\n",
       "dtype: int64"
      ]
     },
     "execution_count": 208,
     "metadata": {},
     "output_type": "execute_result"
    }
   ],
   "source": [
    "dataset.isnull().sum() "
   ]
  },
  {
   "cell_type": "code",
   "execution_count": 209,
   "id": "26d2b528-dd11-4bd6-879e-179a65350719",
   "metadata": {},
   "outputs": [
    {
     "data": {
      "text/plain": [
       "car_name               0.000000\n",
       "car_prices_in_rupee    0.000000\n",
       "kms_driven             0.018142\n",
       "fuel_type              0.000000\n",
       "transmission           0.000000\n",
       "ownership              0.000000\n",
       "engine                 0.000000\n",
       "Seats                  0.000000\n",
       "manufacture            0.000000\n",
       "dtype: float64"
      ]
     },
     "execution_count": 209,
     "metadata": {},
     "output_type": "execute_result"
    }
   ],
   "source": [
    "(dataset.isnull().sum()/dataset.shape[0])*100  "
   ]
  },
  {
   "cell_type": "code",
   "execution_count": 210,
   "id": "244e2168-a74e-4f3e-a697-eda2b774c52f",
   "metadata": {},
   "outputs": [],
   "source": [
    "dataset.dropna(inplace=True) "
   ]
  },
  {
   "cell_type": "code",
   "execution_count": 211,
   "id": "55d6de82-599d-4984-b9ab-cbe4b492b5e4",
   "metadata": {},
   "outputs": [
    {
     "data": {
      "text/plain": [
       "car_name               0.0\n",
       "car_prices_in_rupee    0.0\n",
       "kms_driven             0.0\n",
       "fuel_type              0.0\n",
       "transmission           0.0\n",
       "ownership              0.0\n",
       "engine                 0.0\n",
       "Seats                  0.0\n",
       "manufacture            0.0\n",
       "dtype: float64"
      ]
     },
     "execution_count": 211,
     "metadata": {},
     "output_type": "execute_result"
    }
   ],
   "source": [
    "(dataset.isnull().sum()/dataset.shape[0])*100 "
   ]
  },
  {
   "cell_type": "code",
   "execution_count": 212,
   "id": "ad310ed5-2518-46bd-b83d-fd347db13219",
   "metadata": {},
   "outputs": [
    {
     "data": {
      "text/plain": [
       "car_name               0\n",
       "car_prices_in_rupee    0\n",
       "kms_driven             0\n",
       "fuel_type              0\n",
       "transmission           0\n",
       "ownership              0\n",
       "engine                 0\n",
       "Seats                  0\n",
       "manufacture            0\n",
       "dtype: int64"
      ]
     },
     "execution_count": 212,
     "metadata": {},
     "output_type": "execute_result"
    }
   ],
   "source": [
    "dataset.isnull().sum() "
   ]
  },
  {
   "cell_type": "markdown",
   "id": "ff76597a-3a93-4db3-bfc5-359d19f4d57c",
   "metadata": {},
   "source": [
    "# car_name"
   ]
  },
  {
   "cell_type": "code",
   "execution_count": 213,
   "id": "e1f5f136-469a-4d08-b973-b54ffc0efc4b",
   "metadata": {},
   "outputs": [
    {
     "data": {
      "text/plain": [
       "'Jeep'"
      ]
     },
     "execution_count": 213,
     "metadata": {},
     "output_type": "execute_result"
    }
   ],
   "source": [
    "x = dataset['car_name'][0] \n",
    "x[: x.index(\" \")]   "
   ]
  },
  {
   "cell_type": "code",
   "execution_count": 214,
   "id": "020967b5-d174-487d-b41e-13ff16e76e8d",
   "metadata": {},
   "outputs": [],
   "source": [
    "def company_name(x):\n",
    "    return x[ : x.index(\" \")] "
   ]
  },
  {
   "cell_type": "code",
   "execution_count": 215,
   "id": "26e4de6c-e05e-4b39-8ac0-a673f4171511",
   "metadata": {},
   "outputs": [],
   "source": [
    "dataset['company_name'] = dataset['car_name'].apply(company_name) "
   ]
  },
  {
   "cell_type": "code",
   "execution_count": 216,
   "id": "3859473f-b8e1-4852-b694-94dc31ca9275",
   "metadata": {},
   "outputs": [
    {
     "data": {
      "text/plain": [
       "0             Jeep\n",
       "1          Renault\n",
       "2           Toyota\n",
       "3            Honda\n",
       "4       Volkswagen\n",
       "           ...    \n",
       "5507           BMW\n",
       "5508           BMW\n",
       "5509        Jaguar\n",
       "5510           BMW\n",
       "5511           BMW\n",
       "Name: company_name, Length: 5511, dtype: object"
      ]
     },
     "execution_count": 216,
     "metadata": {},
     "output_type": "execute_result"
    }
   ],
   "source": [
    "dataset['company_name'] "
   ]
  },
  {
   "cell_type": "code",
   "execution_count": 217,
   "id": "4e73b5df-719f-4674-b0ca-171c4bc11ec5",
   "metadata": {},
   "outputs": [
    {
     "data": {
      "text/html": [
       "<div>\n",
       "<style scoped>\n",
       "    .dataframe tbody tr th:only-of-type {\n",
       "        vertical-align: middle;\n",
       "    }\n",
       "\n",
       "    .dataframe tbody tr th {\n",
       "        vertical-align: top;\n",
       "    }\n",
       "\n",
       "    .dataframe thead th {\n",
       "        text-align: right;\n",
       "    }\n",
       "</style>\n",
       "<table border=\"1\" class=\"dataframe\">\n",
       "  <thead>\n",
       "    <tr style=\"text-align: right;\">\n",
       "      <th></th>\n",
       "      <th>car_name</th>\n",
       "      <th>car_prices_in_rupee</th>\n",
       "      <th>kms_driven</th>\n",
       "      <th>fuel_type</th>\n",
       "      <th>transmission</th>\n",
       "      <th>ownership</th>\n",
       "      <th>engine</th>\n",
       "      <th>Seats</th>\n",
       "      <th>manufacture</th>\n",
       "      <th>company_name</th>\n",
       "    </tr>\n",
       "  </thead>\n",
       "  <tbody>\n",
       "    <tr>\n",
       "      <th>0</th>\n",
       "      <td>Jeep Compass 2.0 Longitude Option BSIV</td>\n",
       "      <td>10.03 Lakh</td>\n",
       "      <td>86,226 kms</td>\n",
       "      <td>Diesel</td>\n",
       "      <td>Manual</td>\n",
       "      <td>1st Owner</td>\n",
       "      <td>1956 cc</td>\n",
       "      <td>5 Seats</td>\n",
       "      <td>January 7, 2018</td>\n",
       "      <td>Jeep</td>\n",
       "    </tr>\n",
       "    <tr>\n",
       "      <th>1</th>\n",
       "      <td>Renault Duster RXZ Turbo CVT</td>\n",
       "      <td>12.83 Lakh</td>\n",
       "      <td>13,248 kms</td>\n",
       "      <td>Petrol</td>\n",
       "      <td>Automatic</td>\n",
       "      <td>1st Owner</td>\n",
       "      <td>1330 cc</td>\n",
       "      <td>5 Seats</td>\n",
       "      <td>January 15, 2018</td>\n",
       "      <td>Renault</td>\n",
       "    </tr>\n",
       "    <tr>\n",
       "      <th>2</th>\n",
       "      <td>Toyota Camry 2.5 G</td>\n",
       "      <td>16.40 Lakh</td>\n",
       "      <td>60,343 kms</td>\n",
       "      <td>Petrol</td>\n",
       "      <td>Automatic</td>\n",
       "      <td>1st Owner</td>\n",
       "      <td>2494 cc</td>\n",
       "      <td>5 Seats</td>\n",
       "      <td>August 1,  2018</td>\n",
       "      <td>Toyota</td>\n",
       "    </tr>\n",
       "    <tr>\n",
       "      <th>3</th>\n",
       "      <td>Honda Jazz VX CVT</td>\n",
       "      <td>7.77 Lakh</td>\n",
       "      <td>26,696 kms</td>\n",
       "      <td>Petrol</td>\n",
       "      <td>Automatic</td>\n",
       "      <td>1st Owner</td>\n",
       "      <td>1199 cc</td>\n",
       "      <td>5 Seats</td>\n",
       "      <td>June 8, 2018</td>\n",
       "      <td>Honda</td>\n",
       "    </tr>\n",
       "    <tr>\n",
       "      <th>4</th>\n",
       "      <td>Volkswagen Polo 1.2 MPI Highline</td>\n",
       "      <td>5.15 Lakh</td>\n",
       "      <td>69,414 kms</td>\n",
       "      <td>Petrol</td>\n",
       "      <td>Manual</td>\n",
       "      <td>1st Owner</td>\n",
       "      <td>1199 cc</td>\n",
       "      <td>5 Seats</td>\n",
       "      <td>June 20, 2018</td>\n",
       "      <td>Volkswagen</td>\n",
       "    </tr>\n",
       "  </tbody>\n",
       "</table>\n",
       "</div>"
      ],
      "text/plain": [
       "                                 car_name car_prices_in_rupee  kms_driven  \\\n",
       "0  Jeep Compass 2.0 Longitude Option BSIV          10.03 Lakh  86,226 kms   \n",
       "1            Renault Duster RXZ Turbo CVT          12.83 Lakh  13,248 kms   \n",
       "2                      Toyota Camry 2.5 G          16.40 Lakh  60,343 kms   \n",
       "3                       Honda Jazz VX CVT           7.77 Lakh  26,696 kms   \n",
       "4        Volkswagen Polo 1.2 MPI Highline           5.15 Lakh  69,414 kms   \n",
       "\n",
       "  fuel_type transmission  ownership   engine    Seats       manufacture  \\\n",
       "0    Diesel       Manual  1st Owner  1956 cc  5 Seats   January 7, 2018   \n",
       "1    Petrol    Automatic  1st Owner  1330 cc  5 Seats  January 15, 2018   \n",
       "2    Petrol    Automatic  1st Owner  2494 cc  5 Seats   August 1,  2018   \n",
       "3    Petrol    Automatic  1st Owner  1199 cc  5 Seats      June 8, 2018   \n",
       "4    Petrol       Manual  1st Owner  1199 cc  5 Seats     June 20, 2018   \n",
       "\n",
       "  company_name  \n",
       "0         Jeep  \n",
       "1      Renault  \n",
       "2       Toyota  \n",
       "3        Honda  \n",
       "4   Volkswagen  "
      ]
     },
     "execution_count": 217,
     "metadata": {},
     "output_type": "execute_result"
    }
   ],
   "source": [
    "dataset.head()"
   ]
  },
  {
   "cell_type": "code",
   "execution_count": 219,
   "id": "91178c8f-76bd-40cf-a42e-c759dc75e44b",
   "metadata": {},
   "outputs": [],
   "source": [
    "def car_name(x):\n",
    "    return x[x.index(\" \")+1:] "
   ]
  },
  {
   "cell_type": "code",
   "execution_count": 220,
   "id": "e8a8301f-060d-4071-90ce-44acbccd6318",
   "metadata": {},
   "outputs": [
    {
     "data": {
      "text/plain": [
       "0       Compass 2.0 Longitude Option BSIV\n",
       "1                    Duster RXZ Turbo CVT\n",
       "2                             Camry 2.5 G\n",
       "3                             Jazz VX CVT\n",
       "4                   Polo 1.2 MPI Highline\n",
       "                      ...                \n",
       "5507                  X1 sDrive 20d xLine\n",
       "5508                    M Series M4 Coupe\n",
       "5509                  XF 2.2 Litre Luxury\n",
       "5510                       7 Series 730Ld\n",
       "5511                5 Series 520d M Sport\n",
       "Name: car_name, Length: 5511, dtype: object"
      ]
     },
     "execution_count": 220,
     "metadata": {},
     "output_type": "execute_result"
    }
   ],
   "source": [
    "dataset['car_name'] = dataset['car_name'].apply(car_name)\n",
    "dataset['car_name'] "
   ]
  },
  {
   "cell_type": "code",
   "execution_count": 221,
   "id": "8f25d4df-4d07-441e-881f-e587556c2c3f",
   "metadata": {},
   "outputs": [
    {
     "data": {
      "text/html": [
       "<div>\n",
       "<style scoped>\n",
       "    .dataframe tbody tr th:only-of-type {\n",
       "        vertical-align: middle;\n",
       "    }\n",
       "\n",
       "    .dataframe tbody tr th {\n",
       "        vertical-align: top;\n",
       "    }\n",
       "\n",
       "    .dataframe thead th {\n",
       "        text-align: right;\n",
       "    }\n",
       "</style>\n",
       "<table border=\"1\" class=\"dataframe\">\n",
       "  <thead>\n",
       "    <tr style=\"text-align: right;\">\n",
       "      <th></th>\n",
       "      <th>car_name</th>\n",
       "      <th>car_prices_in_rupee</th>\n",
       "      <th>kms_driven</th>\n",
       "      <th>fuel_type</th>\n",
       "      <th>transmission</th>\n",
       "      <th>ownership</th>\n",
       "      <th>engine</th>\n",
       "      <th>Seats</th>\n",
       "      <th>manufacture</th>\n",
       "      <th>company_name</th>\n",
       "    </tr>\n",
       "  </thead>\n",
       "  <tbody>\n",
       "    <tr>\n",
       "      <th>0</th>\n",
       "      <td>Compass 2.0 Longitude Option BSIV</td>\n",
       "      <td>10.03 Lakh</td>\n",
       "      <td>86,226 kms</td>\n",
       "      <td>Diesel</td>\n",
       "      <td>Manual</td>\n",
       "      <td>1st Owner</td>\n",
       "      <td>1956 cc</td>\n",
       "      <td>5 Seats</td>\n",
       "      <td>January 7, 2018</td>\n",
       "      <td>Jeep</td>\n",
       "    </tr>\n",
       "    <tr>\n",
       "      <th>1</th>\n",
       "      <td>Duster RXZ Turbo CVT</td>\n",
       "      <td>12.83 Lakh</td>\n",
       "      <td>13,248 kms</td>\n",
       "      <td>Petrol</td>\n",
       "      <td>Automatic</td>\n",
       "      <td>1st Owner</td>\n",
       "      <td>1330 cc</td>\n",
       "      <td>5 Seats</td>\n",
       "      <td>January 15, 2018</td>\n",
       "      <td>Renault</td>\n",
       "    </tr>\n",
       "    <tr>\n",
       "      <th>2</th>\n",
       "      <td>Camry 2.5 G</td>\n",
       "      <td>16.40 Lakh</td>\n",
       "      <td>60,343 kms</td>\n",
       "      <td>Petrol</td>\n",
       "      <td>Automatic</td>\n",
       "      <td>1st Owner</td>\n",
       "      <td>2494 cc</td>\n",
       "      <td>5 Seats</td>\n",
       "      <td>August 1,  2018</td>\n",
       "      <td>Toyota</td>\n",
       "    </tr>\n",
       "    <tr>\n",
       "      <th>3</th>\n",
       "      <td>Jazz VX CVT</td>\n",
       "      <td>7.77 Lakh</td>\n",
       "      <td>26,696 kms</td>\n",
       "      <td>Petrol</td>\n",
       "      <td>Automatic</td>\n",
       "      <td>1st Owner</td>\n",
       "      <td>1199 cc</td>\n",
       "      <td>5 Seats</td>\n",
       "      <td>June 8, 2018</td>\n",
       "      <td>Honda</td>\n",
       "    </tr>\n",
       "    <tr>\n",
       "      <th>4</th>\n",
       "      <td>Polo 1.2 MPI Highline</td>\n",
       "      <td>5.15 Lakh</td>\n",
       "      <td>69,414 kms</td>\n",
       "      <td>Petrol</td>\n",
       "      <td>Manual</td>\n",
       "      <td>1st Owner</td>\n",
       "      <td>1199 cc</td>\n",
       "      <td>5 Seats</td>\n",
       "      <td>June 20, 2018</td>\n",
       "      <td>Volkswagen</td>\n",
       "    </tr>\n",
       "  </tbody>\n",
       "</table>\n",
       "</div>"
      ],
      "text/plain": [
       "                            car_name car_prices_in_rupee  kms_driven  \\\n",
       "0  Compass 2.0 Longitude Option BSIV          10.03 Lakh  86,226 kms   \n",
       "1               Duster RXZ Turbo CVT          12.83 Lakh  13,248 kms   \n",
       "2                        Camry 2.5 G          16.40 Lakh  60,343 kms   \n",
       "3                        Jazz VX CVT           7.77 Lakh  26,696 kms   \n",
       "4              Polo 1.2 MPI Highline           5.15 Lakh  69,414 kms   \n",
       "\n",
       "  fuel_type transmission  ownership   engine    Seats       manufacture  \\\n",
       "0    Diesel       Manual  1st Owner  1956 cc  5 Seats   January 7, 2018   \n",
       "1    Petrol    Automatic  1st Owner  1330 cc  5 Seats  January 15, 2018   \n",
       "2    Petrol    Automatic  1st Owner  2494 cc  5 Seats   August 1,  2018   \n",
       "3    Petrol    Automatic  1st Owner  1199 cc  5 Seats      June 8, 2018   \n",
       "4    Petrol       Manual  1st Owner  1199 cc  5 Seats     June 20, 2018   \n",
       "\n",
       "  company_name  \n",
       "0         Jeep  \n",
       "1      Renault  \n",
       "2       Toyota  \n",
       "3        Honda  \n",
       "4   Volkswagen  "
      ]
     },
     "execution_count": 221,
     "metadata": {},
     "output_type": "execute_result"
    }
   ],
   "source": [
    "dataset.head() "
   ]
  },
  {
   "cell_type": "markdown",
   "id": "72adc06d-2061-432c-beb5-34b841c63f71",
   "metadata": {},
   "source": [
    "# car_prices_in_rupee"
   ]
  },
  {
   "cell_type": "code",
   "execution_count": 193,
   "id": "a17db14f-1cb8-4f49-bc52-b60bfdf6556e",
   "metadata": {},
   "outputs": [],
   "source": [
    "dataset = dataset['car_prices_in_rupee'].str.replace(\",\",\"\")  "
   ]
  },
  {
   "cell_type": "code",
   "execution_count": 194,
   "id": "78d028f5-d964-437c-a977-5b156eaf74ea",
   "metadata": {},
   "outputs": [],
   "source": [
    "def rupee_convert(x):\n",
    "    p = x.split(\" \")\n",
    "    try:\n",
    "        \n",
    "        if p[1] == \"Lakh\":\n",
    "            return str(round(float(p[0])*100000),1)\n",
    "        elif p[1] == \"Crore\":\n",
    "            return str(round(float(p[0])*10000000),1) \n",
    "\n",
    "    except:\n",
    "        return x "
   ]
  },
  {
   "cell_type": "code",
   "execution_count": 195,
   "id": "e21f3e31-f409-458f-8a54-4805c40bb873",
   "metadata": {},
   "outputs": [
    {
     "ename": "KeyError",
     "evalue": "'car_prices_in_rupee'",
     "output_type": "error",
     "traceback": [
      "\u001b[1;31m---------------------------------------------------------------------------\u001b[0m",
      "\u001b[1;31mKeyError\u001b[0m                                  Traceback (most recent call last)",
      "Cell \u001b[1;32mIn[195], line 1\u001b[0m\n\u001b[1;32m----> 1\u001b[0m dataset[\u001b[38;5;124m'\u001b[39m\u001b[38;5;124mcar_prices_in_rupee\u001b[39m\u001b[38;5;124m'\u001b[39m] \u001b[38;5;241m=\u001b[39m \u001b[43mdataset\u001b[49m\u001b[43m[\u001b[49m\u001b[38;5;124;43m'\u001b[39;49m\u001b[38;5;124;43mcar_prices_in_rupee\u001b[39;49m\u001b[38;5;124;43m'\u001b[39;49m\u001b[43m]\u001b[49m\u001b[38;5;241m.\u001b[39mapply(rupee_convert) \n",
      "File \u001b[1;32mC:\\ProgramData\\anaconda3\\Lib\\site-packages\\pandas\\core\\series.py:1121\u001b[0m, in \u001b[0;36mSeries.__getitem__\u001b[1;34m(self, key)\u001b[0m\n\u001b[0;32m   1118\u001b[0m     \u001b[38;5;28;01mreturn\u001b[39;00m \u001b[38;5;28mself\u001b[39m\u001b[38;5;241m.\u001b[39m_values[key]\n\u001b[0;32m   1120\u001b[0m \u001b[38;5;28;01melif\u001b[39;00m key_is_scalar:\n\u001b[1;32m-> 1121\u001b[0m     \u001b[38;5;28;01mreturn\u001b[39;00m \u001b[38;5;28;43mself\u001b[39;49m\u001b[38;5;241;43m.\u001b[39;49m\u001b[43m_get_value\u001b[49m\u001b[43m(\u001b[49m\u001b[43mkey\u001b[49m\u001b[43m)\u001b[49m\n\u001b[0;32m   1123\u001b[0m \u001b[38;5;66;03m# Convert generator to list before going through hashable part\u001b[39;00m\n\u001b[0;32m   1124\u001b[0m \u001b[38;5;66;03m# (We will iterate through the generator there to check for slices)\u001b[39;00m\n\u001b[0;32m   1125\u001b[0m \u001b[38;5;28;01mif\u001b[39;00m is_iterator(key):\n",
      "File \u001b[1;32mC:\\ProgramData\\anaconda3\\Lib\\site-packages\\pandas\\core\\series.py:1237\u001b[0m, in \u001b[0;36mSeries._get_value\u001b[1;34m(self, label, takeable)\u001b[0m\n\u001b[0;32m   1234\u001b[0m     \u001b[38;5;28;01mreturn\u001b[39;00m \u001b[38;5;28mself\u001b[39m\u001b[38;5;241m.\u001b[39m_values[label]\n\u001b[0;32m   1236\u001b[0m \u001b[38;5;66;03m# Similar to Index.get_value, but we do not fall back to positional\u001b[39;00m\n\u001b[1;32m-> 1237\u001b[0m loc \u001b[38;5;241m=\u001b[39m \u001b[38;5;28;43mself\u001b[39;49m\u001b[38;5;241;43m.\u001b[39;49m\u001b[43mindex\u001b[49m\u001b[38;5;241;43m.\u001b[39;49m\u001b[43mget_loc\u001b[49m\u001b[43m(\u001b[49m\u001b[43mlabel\u001b[49m\u001b[43m)\u001b[49m\n\u001b[0;32m   1239\u001b[0m \u001b[38;5;28;01mif\u001b[39;00m is_integer(loc):\n\u001b[0;32m   1240\u001b[0m     \u001b[38;5;28;01mreturn\u001b[39;00m \u001b[38;5;28mself\u001b[39m\u001b[38;5;241m.\u001b[39m_values[loc]\n",
      "File \u001b[1;32mC:\\ProgramData\\anaconda3\\Lib\\site-packages\\pandas\\core\\indexes\\range.py:417\u001b[0m, in \u001b[0;36mRangeIndex.get_loc\u001b[1;34m(self, key)\u001b[0m\n\u001b[0;32m    415\u001b[0m         \u001b[38;5;28;01mraise\u001b[39;00m \u001b[38;5;167;01mKeyError\u001b[39;00m(key) \u001b[38;5;28;01mfrom\u001b[39;00m \u001b[38;5;21;01merr\u001b[39;00m\n\u001b[0;32m    416\u001b[0m \u001b[38;5;28;01mif\u001b[39;00m \u001b[38;5;28misinstance\u001b[39m(key, Hashable):\n\u001b[1;32m--> 417\u001b[0m     \u001b[38;5;28;01mraise\u001b[39;00m \u001b[38;5;167;01mKeyError\u001b[39;00m(key)\n\u001b[0;32m    418\u001b[0m \u001b[38;5;28mself\u001b[39m\u001b[38;5;241m.\u001b[39m_check_indexing_error(key)\n\u001b[0;32m    419\u001b[0m \u001b[38;5;28;01mraise\u001b[39;00m \u001b[38;5;167;01mKeyError\u001b[39;00m(key)\n",
      "\u001b[1;31mKeyError\u001b[0m: 'car_prices_in_rupee'"
     ]
    }
   ],
   "source": [
    "dataset['car_prices_in_rupee'] = dataset['car_prices_in_rupee'].apply(rupee_convert) \n"
   ]
  },
  {
   "cell_type": "markdown",
   "id": "2264dde2-8dc5-4e5b-97ff-08cd5e52017b",
   "metadata": {},
   "source": [
    "# kms_driven"
   ]
  },
  {
   "cell_type": "code",
   "execution_count": 222,
   "id": "8726a03c-7f82-4e59-a295-6015c17c0693",
   "metadata": {},
   "outputs": [],
   "source": [
    "dataset['kms_driven'] = dataset['kms_driven'].str.replace(\",\",\"\")\n",
    "dataset['kms_driven'] = dataset['kms_driven'].str.replace(\"kms\",\"\") \n",
    " "
   ]
  },
  {
   "cell_type": "code",
   "execution_count": 223,
   "id": "0c3f4691-7ed3-4ee2-ba2c-ec21c599de51",
   "metadata": {},
   "outputs": [
    {
     "data": {
      "text/plain": [
       "0       86226\n",
       "1       13248\n",
       "2       60343\n",
       "3       26696\n",
       "4       69414\n",
       "        ...  \n",
       "5507    45000\n",
       "5508    29000\n",
       "5509    90000\n",
       "5510    79000\n",
       "5511    42000\n",
       "Name: kms_driven, Length: 5511, dtype: int64"
      ]
     },
     "execution_count": 223,
     "metadata": {},
     "output_type": "execute_result"
    }
   ],
   "source": [
    "dataset['kms_driven'].astype(\"int64\") "
   ]
  },
  {
   "cell_type": "markdown",
   "id": "f8ce5ea0-9321-4aae-adac-18639caa8a0a",
   "metadata": {},
   "source": [
    "# engine"
   ]
  },
  {
   "cell_type": "code",
   "execution_count": 224,
   "id": "34a617f8-7b62-4222-b10d-83b37e42017d",
   "metadata": {},
   "outputs": [],
   "source": [
    "dataset['engine'] = dataset['engine'].str.replace('cc',\"\")\n",
    "dataset['engine'] = dataset['engine'].astype('int64') "
   ]
  },
  {
   "cell_type": "code",
   "execution_count": 225,
   "id": "a70901f3-2263-4d23-a3c0-9377e82e45c3",
   "metadata": {},
   "outputs": [
    {
     "data": {
      "text/plain": [
       "0       1956\n",
       "1       1330\n",
       "2       2494\n",
       "3       1199\n",
       "4       1199\n",
       "        ... \n",
       "5507    2995\n",
       "5508    1968\n",
       "5509    2755\n",
       "5510    2967\n",
       "5511    1991\n",
       "Name: engine, Length: 5511, dtype: int64"
      ]
     },
     "execution_count": 225,
     "metadata": {},
     "output_type": "execute_result"
    }
   ],
   "source": [
    "dataset['engine'] "
   ]
  },
  {
   "cell_type": "markdown",
   "id": "b82d1733-f997-4b4a-b2cf-243f77f09f19",
   "metadata": {},
   "source": [
    "# Seats"
   ]
  },
  {
   "cell_type": "code",
   "execution_count": 226,
   "id": "7aa947a6-41de-40d0-969b-3bfcb82deb91",
   "metadata": {},
   "outputs": [
    {
     "data": {
      "text/plain": [
       "0       5\n",
       "1       5\n",
       "2       5\n",
       "3       5\n",
       "4       5\n",
       "       ..\n",
       "5507    7\n",
       "5508    5\n",
       "5509    5\n",
       "5510    6\n",
       "5511    5\n",
       "Name: Seats, Length: 5511, dtype: int64"
      ]
     },
     "execution_count": 226,
     "metadata": {},
     "output_type": "execute_result"
    }
   ],
   "source": [
    "dataset['Seats'] = dataset['Seats'].str.replace(\"Seats\", \"\")\n",
    "dataset['Seats'].astype(\"int64\") "
   ]
  },
  {
   "cell_type": "code",
   "execution_count": 227,
   "id": "b1dda38e-759a-424a-9198-a638815a8508",
   "metadata": {},
   "outputs": [
    {
     "data": {
      "text/plain": [
       "0       5 \n",
       "1       5 \n",
       "2       5 \n",
       "3       5 \n",
       "4       5 \n",
       "        ..\n",
       "5507    7 \n",
       "5508    5 \n",
       "5509    5 \n",
       "5510    6 \n",
       "5511    5 \n",
       "Name: Seats, Length: 5511, dtype: object"
      ]
     },
     "execution_count": 227,
     "metadata": {},
     "output_type": "execute_result"
    }
   ],
   "source": [
    "dataset['Seats'] "
   ]
  },
  {
   "cell_type": "markdown",
   "id": "6b6f5648-f36f-4dc8-9a8d-e048ab045c22",
   "metadata": {},
   "source": [
    "# manufacture"
   ]
  },
  {
   "cell_type": "code",
   "execution_count": 240,
   "id": "99ee72c2-45ec-4b90-bcca-0ebeda1d473e",
   "metadata": {},
   "outputs": [],
   "source": [
    "dataset['manufacture'] = pd.to_datetime(dataset['manufacture'], format='%B %d, %Y', errors='coerce')\n"
   ]
  },
  {
   "cell_type": "code",
   "execution_count": 241,
   "id": "67d635ec-4b4d-4d77-92c3-9196118960c3",
   "metadata": {},
   "outputs": [
    {
     "data": {
      "text/plain": [
       "0    2018-01-07\n",
       "1    2018-01-15\n",
       "2    2018-08-01\n",
       "3    2018-06-08\n",
       "4    2018-06-20\n",
       "5    2017-03-26\n",
       "6    2019-01-07\n",
       "7    2019-01-15\n",
       "8    2019-08-01\n",
       "9    2019-06-08\n",
       "10   2019-06-20\n",
       "11   2018-03-26\n",
       "12   2020-01-07\n",
       "13   2020-01-15\n",
       "15   2020-06-08\n",
       "16   2020-06-20\n",
       "17   2019-03-26\n",
       "18   2021-01-07\n",
       "19   2021-01-15\n",
       "20   2021-08-01\n",
       "21   2021-06-08\n",
       "22   2021-06-20\n",
       "23   2020-03-26\n",
       "24   2022-01-07\n",
       "25   2022-01-15\n",
       "26   2022-08-01\n",
       "27   2022-06-08\n",
       "28   2022-06-20\n",
       "29   2021-03-26\n",
       "30   2023-01-07\n",
       "31   2023-01-15\n",
       "32   2023-08-01\n",
       "33   2023-06-08\n",
       "34   2023-06-20\n",
       "35   2022-03-26\n",
       "36   2024-01-07\n",
       "37   2024-01-15\n",
       "38   2024-08-01\n",
       "39   2024-06-08\n",
       "40   2024-06-20\n",
       "41   2023-03-26\n",
       "42   2025-01-07\n",
       "43   2025-01-15\n",
       "44   2025-08-01\n",
       "45   2025-06-08\n",
       "46   2025-06-20\n",
       "47   2024-03-26\n",
       "48   2026-01-07\n",
       "49   2026-01-15\n",
       "50   2026-08-01\n",
       "Name: manufacture, dtype: datetime64[ns]"
      ]
     },
     "execution_count": 241,
     "metadata": {},
     "output_type": "execute_result"
    }
   ],
   "source": [
    "dataset['manufacture'].head(50) "
   ]
  },
  {
   "cell_type": "code",
   "execution_count": 252,
   "id": "6ecc1e39-d6d3-4291-ba7d-8a91e76e8078",
   "metadata": {},
   "outputs": [
    {
     "data": {
      "text/html": [
       "<div>\n",
       "<style scoped>\n",
       "    .dataframe tbody tr th:only-of-type {\n",
       "        vertical-align: middle;\n",
       "    }\n",
       "\n",
       "    .dataframe tbody tr th {\n",
       "        vertical-align: top;\n",
       "    }\n",
       "\n",
       "    .dataframe thead th {\n",
       "        text-align: right;\n",
       "    }\n",
       "</style>\n",
       "<table border=\"1\" class=\"dataframe\">\n",
       "  <thead>\n",
       "    <tr style=\"text-align: right;\">\n",
       "      <th></th>\n",
       "      <th>car_name</th>\n",
       "      <th>car_prices_in_rupee</th>\n",
       "      <th>kms_driven</th>\n",
       "      <th>fuel_type</th>\n",
       "      <th>transmission</th>\n",
       "      <th>ownership</th>\n",
       "      <th>engine</th>\n",
       "      <th>Seats</th>\n",
       "      <th>manufacture</th>\n",
       "      <th>company_name</th>\n",
       "    </tr>\n",
       "  </thead>\n",
       "  <tbody>\n",
       "    <tr>\n",
       "      <th>0</th>\n",
       "      <td>Compass 2.0 Longitude Option BSIV</td>\n",
       "      <td>1002999</td>\n",
       "      <td>86226</td>\n",
       "      <td>Diesel</td>\n",
       "      <td>Manual</td>\n",
       "      <td>1st Owner</td>\n",
       "      <td>1956</td>\n",
       "      <td>5</td>\n",
       "      <td>2018-01-07</td>\n",
       "      <td>Jeep</td>\n",
       "    </tr>\n",
       "    <tr>\n",
       "      <th>1</th>\n",
       "      <td>Duster RXZ Turbo CVT</td>\n",
       "      <td>1283000</td>\n",
       "      <td>13248</td>\n",
       "      <td>Petrol</td>\n",
       "      <td>Automatic</td>\n",
       "      <td>1st Owner</td>\n",
       "      <td>1330</td>\n",
       "      <td>5</td>\n",
       "      <td>2018-01-15</td>\n",
       "      <td>Renault</td>\n",
       "    </tr>\n",
       "    <tr>\n",
       "      <th>2</th>\n",
       "      <td>Camry 2.5 G</td>\n",
       "      <td>1639999</td>\n",
       "      <td>60343</td>\n",
       "      <td>Petrol</td>\n",
       "      <td>Automatic</td>\n",
       "      <td>1st Owner</td>\n",
       "      <td>2494</td>\n",
       "      <td>5</td>\n",
       "      <td>2018-08-01</td>\n",
       "      <td>Toyota</td>\n",
       "    </tr>\n",
       "    <tr>\n",
       "      <th>3</th>\n",
       "      <td>Jazz VX CVT</td>\n",
       "      <td>777000</td>\n",
       "      <td>26696</td>\n",
       "      <td>Petrol</td>\n",
       "      <td>Automatic</td>\n",
       "      <td>1st Owner</td>\n",
       "      <td>1199</td>\n",
       "      <td>5</td>\n",
       "      <td>2018-06-08</td>\n",
       "      <td>Honda</td>\n",
       "    </tr>\n",
       "    <tr>\n",
       "      <th>4</th>\n",
       "      <td>Polo 1.2 MPI Highline</td>\n",
       "      <td>515000</td>\n",
       "      <td>69414</td>\n",
       "      <td>Petrol</td>\n",
       "      <td>Manual</td>\n",
       "      <td>1st Owner</td>\n",
       "      <td>1199</td>\n",
       "      <td>5</td>\n",
       "      <td>2018-06-20</td>\n",
       "      <td>Volkswagen</td>\n",
       "    </tr>\n",
       "  </tbody>\n",
       "</table>\n",
       "</div>"
      ],
      "text/plain": [
       "                            car_name  car_prices_in_rupee kms_driven  \\\n",
       "0  Compass 2.0 Longitude Option BSIV              1002999     86226    \n",
       "1               Duster RXZ Turbo CVT              1283000     13248    \n",
       "2                        Camry 2.5 G              1639999     60343    \n",
       "3                        Jazz VX CVT               777000     26696    \n",
       "4              Polo 1.2 MPI Highline               515000     69414    \n",
       "\n",
       "  fuel_type transmission  ownership  engine Seats manufacture company_name  \n",
       "0    Diesel       Manual  1st Owner    1956    5   2018-01-07         Jeep  \n",
       "1    Petrol    Automatic  1st Owner    1330    5   2018-01-15      Renault  \n",
       "2    Petrol    Automatic  1st Owner    2494    5   2018-08-01       Toyota  \n",
       "3    Petrol    Automatic  1st Owner    1199    5   2018-06-08        Honda  \n",
       "4    Petrol       Manual  1st Owner    1199    5   2018-06-20   Volkswagen  "
      ]
     },
     "execution_count": 252,
     "metadata": {},
     "output_type": "execute_result"
    }
   ],
   "source": [
    "dataset.head() "
   ]
  },
  {
   "cell_type": "markdown",
   "id": "8812f9d7-6868-483f-825c-109dd637f871",
   "metadata": {},
   "source": [
    "# outlier"
   ]
  },
  {
   "cell_type": "code",
   "execution_count": 253,
   "id": "cf5573f2-02e1-4818-b402-84ee0b056d50",
   "metadata": {},
   "outputs": [
    {
     "data": {
      "text/html": [
       "<div>\n",
       "<style scoped>\n",
       "    .dataframe tbody tr th:only-of-type {\n",
       "        vertical-align: middle;\n",
       "    }\n",
       "\n",
       "    .dataframe tbody tr th {\n",
       "        vertical-align: top;\n",
       "    }\n",
       "\n",
       "    .dataframe thead th {\n",
       "        text-align: right;\n",
       "    }\n",
       "</style>\n",
       "<table border=\"1\" class=\"dataframe\">\n",
       "  <thead>\n",
       "    <tr style=\"text-align: right;\">\n",
       "      <th></th>\n",
       "      <th>car_name</th>\n",
       "      <th>car_prices_in_rupee</th>\n",
       "      <th>kms_driven</th>\n",
       "      <th>fuel_type</th>\n",
       "      <th>transmission</th>\n",
       "      <th>ownership</th>\n",
       "      <th>engine</th>\n",
       "      <th>Seats</th>\n",
       "      <th>manufacture</th>\n",
       "      <th>company_name</th>\n",
       "    </tr>\n",
       "  </thead>\n",
       "  <tbody>\n",
       "    <tr>\n",
       "      <th>0</th>\n",
       "      <td>Compass 2.0 Longitude Option BSIV</td>\n",
       "      <td>1002999</td>\n",
       "      <td>86226</td>\n",
       "      <td>Diesel</td>\n",
       "      <td>Manual</td>\n",
       "      <td>1st Owner</td>\n",
       "      <td>1956</td>\n",
       "      <td>5</td>\n",
       "      <td>2018-01-07</td>\n",
       "      <td>Jeep</td>\n",
       "    </tr>\n",
       "    <tr>\n",
       "      <th>1</th>\n",
       "      <td>Duster RXZ Turbo CVT</td>\n",
       "      <td>1283000</td>\n",
       "      <td>13248</td>\n",
       "      <td>Petrol</td>\n",
       "      <td>Automatic</td>\n",
       "      <td>1st Owner</td>\n",
       "      <td>1330</td>\n",
       "      <td>5</td>\n",
       "      <td>2018-01-15</td>\n",
       "      <td>Renault</td>\n",
       "    </tr>\n",
       "    <tr>\n",
       "      <th>2</th>\n",
       "      <td>Camry 2.5 G</td>\n",
       "      <td>1639999</td>\n",
       "      <td>60343</td>\n",
       "      <td>Petrol</td>\n",
       "      <td>Automatic</td>\n",
       "      <td>1st Owner</td>\n",
       "      <td>2494</td>\n",
       "      <td>5</td>\n",
       "      <td>2018-08-01</td>\n",
       "      <td>Toyota</td>\n",
       "    </tr>\n",
       "    <tr>\n",
       "      <th>3</th>\n",
       "      <td>Jazz VX CVT</td>\n",
       "      <td>777000</td>\n",
       "      <td>26696</td>\n",
       "      <td>Petrol</td>\n",
       "      <td>Automatic</td>\n",
       "      <td>1st Owner</td>\n",
       "      <td>1199</td>\n",
       "      <td>5</td>\n",
       "      <td>2018-06-08</td>\n",
       "      <td>Honda</td>\n",
       "    </tr>\n",
       "    <tr>\n",
       "      <th>4</th>\n",
       "      <td>Polo 1.2 MPI Highline</td>\n",
       "      <td>515000</td>\n",
       "      <td>69414</td>\n",
       "      <td>Petrol</td>\n",
       "      <td>Manual</td>\n",
       "      <td>1st Owner</td>\n",
       "      <td>1199</td>\n",
       "      <td>5</td>\n",
       "      <td>2018-06-20</td>\n",
       "      <td>Volkswagen</td>\n",
       "    </tr>\n",
       "  </tbody>\n",
       "</table>\n",
       "</div>"
      ],
      "text/plain": [
       "                            car_name  car_prices_in_rupee kms_driven  \\\n",
       "0  Compass 2.0 Longitude Option BSIV              1002999     86226    \n",
       "1               Duster RXZ Turbo CVT              1283000     13248    \n",
       "2                        Camry 2.5 G              1639999     60343    \n",
       "3                        Jazz VX CVT               777000     26696    \n",
       "4              Polo 1.2 MPI Highline               515000     69414    \n",
       "\n",
       "  fuel_type transmission  ownership  engine Seats manufacture company_name  \n",
       "0    Diesel       Manual  1st Owner    1956    5   2018-01-07         Jeep  \n",
       "1    Petrol    Automatic  1st Owner    1330    5   2018-01-15      Renault  \n",
       "2    Petrol    Automatic  1st Owner    2494    5   2018-08-01       Toyota  \n",
       "3    Petrol    Automatic  1st Owner    1199    5   2018-06-08        Honda  \n",
       "4    Petrol       Manual  1st Owner    1199    5   2018-06-20   Volkswagen  "
      ]
     },
     "execution_count": 253,
     "metadata": {},
     "output_type": "execute_result"
    }
   ],
   "source": [
    "dataset.head() "
   ]
  },
  {
   "cell_type": "code",
   "execution_count": 230,
   "id": "dc8af03c-3cc6-4b2f-b609-de7a60b4e69b",
   "metadata": {},
   "outputs": [
    {
     "data": {
      "image/png": "[encoded data removed]",
      "text/plain": [
       "<Figure size 600x500 with 1 Axes>"
      ]
     },
     "metadata": {},
     "output_type": "display_data"
    }
   ],
   "source": [
    "plt.figure(figsize=(6,5))\n",
    "sns.boxplot(x=\"kms_driven\",data=dataset)\n",
    "plt.show() "
   ]
  },
  {
   "cell_type": "code",
   "execution_count": 233,
   "id": "64a8ae6a-8e16-466a-a704-92784f924efb",
   "metadata": {},
   "outputs": [
    {
     "data": {
      "image/png": "[encoded data removed]",
      "text/plain": [
       "<Figure size 400x300 with 1 Axes>"
      ]
     },
     "metadata": {},
     "output_type": "display_data"
    }
   ],
   "source": [
    "plt.figure(figsize=(4,3))\n",
    "sns.boxplot(x=\"Seats\",data=dataset)\n",
    "plt.show() "
   ]
  },
  {
   "cell_type": "code",
   "execution_count": 234,
   "id": "d54bdcc5-1338-418a-bc65-dcc40aa23db5",
   "metadata": {},
   "outputs": [
    {
     "data": {
      "image/png": "[encoded data removed]",
      "text/plain": [
       "<Figure size 600x500 with 1 Axes>"
      ]
     },
     "metadata": {},
     "output_type": "display_data"
    }
   ],
   "source": [
    "plt.figure(figsize=(6,5))\n",
    "sns.boxplot(x=\"engine\",data=dataset)\n",
    "plt.show() "
   ]
  },
  {
   "cell_type": "markdown",
   "id": "fb24565c-7688-4c67-8cb1-737b1c703787",
   "metadata": {},
   "source": [
    "# Dealing with outliers"
   ]
  },
  {
   "cell_type": "code",
   "execution_count": 242,
   "id": "a7d2ef85-f1bb-4174-9253-473f9b8f8154",
   "metadata": {},
   "outputs": [],
   "source": [
    "q1 = np.quantile(dataset['engine'],0.25)\n",
    "q3 = np.quantile(dataset['engine'],0.75)"
   ]
  },
  {
   "cell_type": "code",
   "execution_count": 243,
   "id": "8c0605df-6770-4e4a-808b-7c850c23f3fa",
   "metadata": {},
   "outputs": [
    {
     "data": {
      "text/plain": [
       "(1197.0, 1950.0)"
      ]
     },
     "execution_count": 243,
     "metadata": {},
     "output_type": "execute_result"
    }
   ],
   "source": [
    "q1, q3"
   ]
  },
  {
   "cell_type": "code",
   "execution_count": 244,
   "id": "ad16df66-47a5-4ad4-8429-6b9046093eb5",
   "metadata": {},
   "outputs": [],
   "source": [
    "iqr = q3 - q1"
   ]
  },
  {
   "cell_type": "code",
   "execution_count": 245,
   "id": "de181267-e86e-49d9-b892-1fa6ad4a291b",
   "metadata": {},
   "outputs": [],
   "source": [
    "min_r = q1-(1.5*iqr)\n",
    "max_r = q3+(1.5*iqr)"
   ]
  },
  {
   "cell_type": "code",
   "execution_count": 246,
   "id": "d459d43b-d420-4c51-bc11-4cf056ce20af",
   "metadata": {},
   "outputs": [
    {
     "data": {
      "text/plain": [
       "(67.5, 3079.5)"
      ]
     },
     "execution_count": 246,
     "metadata": {},
     "output_type": "execute_result"
    }
   ],
   "source": [
    "min_r, max_r"
   ]
  },
  {
   "cell_type": "code",
   "execution_count": 250,
   "id": "cbecb916-b43f-4411-871c-98cddb7eb1ad",
   "metadata": {},
   "outputs": [],
   "source": [
    "dataset = dataset[dataset['engine'] <= max_r] "
   ]
  },
  {
   "cell_type": "code",
   "execution_count": 251,
   "id": "0eac1bdd-4620-4447-80d7-172e5ce12db4",
   "metadata": {},
   "outputs": [
    {
     "data": {
      "text/html": [
       "<div>\n",
       "<style scoped>\n",
       "    .dataframe tbody tr th:only-of-type {\n",
       "        vertical-align: middle;\n",
       "    }\n",
       "\n",
       "    .dataframe tbody tr th {\n",
       "        vertical-align: top;\n",
       "    }\n",
       "\n",
       "    .dataframe thead th {\n",
       "        text-align: right;\n",
       "    }\n",
       "</style>\n",
       "<table border=\"1\" class=\"dataframe\">\n",
       "  <thead>\n",
       "    <tr style=\"text-align: right;\">\n",
       "      <th></th>\n",
       "      <th>car_name</th>\n",
       "      <th>car_prices_in_rupee</th>\n",
       "      <th>kms_driven</th>\n",
       "      <th>fuel_type</th>\n",
       "      <th>transmission</th>\n",
       "      <th>ownership</th>\n",
       "      <th>engine</th>\n",
       "      <th>Seats</th>\n",
       "      <th>manufacture</th>\n",
       "      <th>company_name</th>\n",
       "    </tr>\n",
       "  </thead>\n",
       "  <tbody>\n",
       "    <tr>\n",
       "      <th>0</th>\n",
       "      <td>Compass 2.0 Longitude Option BSIV</td>\n",
       "      <td>1002999</td>\n",
       "      <td>86226</td>\n",
       "      <td>Diesel</td>\n",
       "      <td>Manual</td>\n",
       "      <td>1st Owner</td>\n",
       "      <td>1956</td>\n",
       "      <td>5</td>\n",
       "      <td>2018-01-07</td>\n",
       "      <td>Jeep</td>\n",
       "    </tr>\n",
       "    <tr>\n",
       "      <th>1</th>\n",
       "      <td>Duster RXZ Turbo CVT</td>\n",
       "      <td>1283000</td>\n",
       "      <td>13248</td>\n",
       "      <td>Petrol</td>\n",
       "      <td>Automatic</td>\n",
       "      <td>1st Owner</td>\n",
       "      <td>1330</td>\n",
       "      <td>5</td>\n",
       "      <td>2018-01-15</td>\n",
       "      <td>Renault</td>\n",
       "    </tr>\n",
       "    <tr>\n",
       "      <th>2</th>\n",
       "      <td>Camry 2.5 G</td>\n",
       "      <td>1639999</td>\n",
       "      <td>60343</td>\n",
       "      <td>Petrol</td>\n",
       "      <td>Automatic</td>\n",
       "      <td>1st Owner</td>\n",
       "      <td>2494</td>\n",
       "      <td>5</td>\n",
       "      <td>2018-08-01</td>\n",
       "      <td>Toyota</td>\n",
       "    </tr>\n",
       "    <tr>\n",
       "      <th>3</th>\n",
       "      <td>Jazz VX CVT</td>\n",
       "      <td>777000</td>\n",
       "      <td>26696</td>\n",
       "      <td>Petrol</td>\n",
       "      <td>Automatic</td>\n",
       "      <td>1st Owner</td>\n",
       "      <td>1199</td>\n",
       "      <td>5</td>\n",
       "      <td>2018-06-08</td>\n",
       "      <td>Honda</td>\n",
       "    </tr>\n",
       "    <tr>\n",
       "      <th>4</th>\n",
       "      <td>Polo 1.2 MPI Highline</td>\n",
       "      <td>515000</td>\n",
       "      <td>69414</td>\n",
       "      <td>Petrol</td>\n",
       "      <td>Manual</td>\n",
       "      <td>1st Owner</td>\n",
       "      <td>1199</td>\n",
       "      <td>5</td>\n",
       "      <td>2018-06-20</td>\n",
       "      <td>Volkswagen</td>\n",
       "    </tr>\n",
       "  </tbody>\n",
       "</table>\n",
       "</div>"
      ],
      "text/plain": [
       "                            car_name  car_prices_in_rupee kms_driven  \\\n",
       "0  Compass 2.0 Longitude Option BSIV              1002999     86226    \n",
       "1               Duster RXZ Turbo CVT              1283000     13248    \n",
       "2                        Camry 2.5 G              1639999     60343    \n",
       "3                        Jazz VX CVT               777000     26696    \n",
       "4              Polo 1.2 MPI Highline               515000     69414    \n",
       "\n",
       "  fuel_type transmission  ownership  engine Seats manufacture company_name  \n",
       "0    Diesel       Manual  1st Owner    1956    5   2018-01-07         Jeep  \n",
       "1    Petrol    Automatic  1st Owner    1330    5   2018-01-15      Renault  \n",
       "2    Petrol    Automatic  1st Owner    2494    5   2018-08-01       Toyota  \n",
       "3    Petrol    Automatic  1st Owner    1199    5   2018-06-08        Honda  \n",
       "4    Petrol       Manual  1st Owner    1199    5   2018-06-20   Volkswagen  "
      ]
     },
     "execution_count": 251,
     "metadata": {},
     "output_type": "execute_result"
    }
   ],
   "source": [
    "dataset.head() "
   ]
  },
  {
   "cell_type": "code",
   "execution_count": null,
   "id": "4d35bd01-4d76-47fc-a0f4-ae2b07d425b9",
   "metadata": {},
   "outputs": [],
   "source": []
  }
 ],
 "metadata": {
  "kernelspec": {
   "display_name": "Python 3 (ipykernel)",
   "language": "python",
   "name": "python3"
  },
  "language_info": {
   "codemirror_mode": {
    "name": "ipython",
    "version": 3
   },
   "file_extension": ".py",
   "mimetype": "text/x-python",
   "name": "python",
   "nbconvert_exporter": "python",
   "pygments_lexer": "ipython3",
   "version": "3.12.4"
  }
 },
 "nbformat": 4,
 "nbformat_minor": 5
}
